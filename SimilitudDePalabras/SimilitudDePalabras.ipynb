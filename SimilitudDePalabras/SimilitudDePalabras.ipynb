{
 "cells": [
  {
   "cell_type": "markdown",
   "metadata": {},
   "source": [
    "\n",
    "\n",
    "### Similitud de palabras\n",
    "### Mineria de datos\n",
    "#### Camacho Gonzalez Pablo\n",
    "\n",
    "\n",
    "\n",
    "### 1. Usando Word2vec"
   ]
  },
  {
   "cell_type": "code",
   "execution_count": 1,
   "metadata": {},
   "outputs": [],
   "source": [
    "from gensim.models import Word2Vec\n",
    "from gensim.models import KeyedVectors\n",
    "import pandas as pd\n",
    "\n",
    "data =  pd.read_csv('CLSR-EK/MC30.csv', delimiter = ';')\n",
    "palabras = data.iloc[:20,:2]\n"
   ]
  },
  {
   "cell_type": "code",
   "execution_count": 2,
   "metadata": {},
   "outputs": [],
   "source": [
    "filename = 'GoogleNews-vectors-negative300.bin'\n",
    "model = KeyedVectors.load_word2vec_format(filename, binary=True)"
   ]
  },
  {
   "cell_type": "code",
   "execution_count": 3,
   "metadata": {},
   "outputs": [
    {
     "name": "stdout",
     "output_type": "stream",
     "text": [
      "(asylum ,madhouse) = 0.2525393\n",
      "(bird ,cock) = 0.36290243\n",
      "(bird ,crane) = 0.30286193\n",
      "(boy ,lad) = 0.5886159\n",
      "(brother ,monk) = 0.2232002\n",
      "(car ,automobile) = 0.5838368\n",
      "(cemetery ,woodland) = 0.38192508\n",
      "(chord ,smile) = 0.14869237\n",
      "(coast ,forest) = 0.2360979\n",
      "(coast ,hill) = 0.16115776\n",
      "(coast ,shore) = 0.5083667\n",
      "(crane ,implement) = 0.023186153\n",
      "(food ,fruit) = 0.3740926\n",
      "(food ,rooster) = 0.11830647\n",
      "(forest ,graveyard) = 0.22901122\n",
      "(furnace ,stove) = 0.60839105\n",
      "(gem ,jewel) = 0.6210811\n",
      "(glass ,magician) = 0.037224907\n",
      "(journey ,car) = 0.09849626\n",
      "(journey ,voyage) = 0.68308526\n"
     ]
    }
   ],
   "source": [
    "##Similitud para 20 palabras en ingles\n",
    "sim_word2 = []\n",
    "for xs in range(20):\n",
    "    sim = model.similarity(palabras.iloc[xs][0], palabras.iloc[xs][1])\n",
    "    print('(' + palabras.iloc[xs][0] +' ,'+ palabras.iloc[xs][1] + ') = ' + str(sim))\n",
    "    sim_word2.append(sim)\n",
    "    "
   ]
  },
  {
   "cell_type": "markdown",
   "metadata": {},
   "source": [
    "### 2. Usando GloVe"
   ]
  },
  {
   "cell_type": "code",
   "execution_count": 4,
   "metadata": {},
   "outputs": [
    {
     "name": "stdout",
     "output_type": "stream",
     "text": [
      "<gensim.models.keyedvectors.Word2VecKeyedVectors object at 0x7fe7d626a210>\n",
      "(asylum ,madhouse) = 0.35605606\n",
      "(bird ,cock) = 0.2175923\n",
      "(bird ,crane) = 0.45388183\n",
      "(boy ,lad) = 0.675714\n",
      "(brother ,monk) = 0.33810928\n",
      "(car ,automobile) = 0.7535857\n",
      "(cemetery ,woodland) = 0.36123264\n",
      "(chord ,smile) = 0.19790427\n",
      "(coast ,forest) = 0.40763992\n",
      "(coast ,hill) = 0.45139647\n",
      "(coast ,shore) = 0.7322569\n",
      "(crane ,implement) = 0.15489374\n",
      "(food ,fruit) = 0.5550151\n",
      "(food ,rooster) = 0.1914624\n",
      "(forest ,graveyard) = 0.33834884\n",
      "(furnace ,stove) = 0.63431245\n",
      "(gem ,jewel) = 0.6481918\n",
      "(glass ,magician) = 0.12764297\n",
      "(journey ,car) = 0.2846713\n",
      "(journey ,voyage) = 0.6463992\n"
     ]
    }
   ],
   "source": [
    "from gensim.scripts.glove2word2vec import glove2word2vec\n",
    "\n",
    "glove_input_file = 'glove.840B.300d.txt'\n",
    "word2vec_output_file = 'glove.840B.300d.txt.word2vec'\n",
    "glove2word2vec(glove_input_file, word2vec_output_file)\n",
    "filename = 'glove.840B.300d.txt.word2vec'\n",
    "model1 = KeyedVectors.load_word2vec_format(filename, binary=False)\n",
    "print(model1)\n",
    "\n",
    "##Similitud para 20 palabras en ingles\n",
    "sim_glove = []\n",
    "for xs in range(20):\n",
    "    sim = model1.similarity(palabras.iloc[xs][0], palabras.iloc[xs][1])\n",
    "    print('(' + palabras.iloc[xs][0] +' ,'+ palabras.iloc[xs][1] + ') = ' + str(sim))\n",
    "    sim_glove.append(sim)"
   ]
  },
  {
   "cell_type": "markdown",
   "metadata": {},
   "source": [
    "### 3. Usando Fasttext"
   ]
  },
  {
   "cell_type": "code",
   "execution_count": 5,
   "metadata": {},
   "outputs": [
    {
     "name": "stdout",
     "output_type": "stream",
     "text": [
      "<gensim.models.keyedvectors.Word2VecKeyedVectors object at 0x7fe910b86cd0>\n",
      "(asylum ,madhouse) = 0.49484956\n",
      "(bird ,cock) = 0.3203013\n",
      "(bird ,crane) = 0.4263681\n",
      "(boy ,lad) = 0.66020894\n",
      "(brother ,monk) = 0.29425547\n",
      "(car ,automobile) = 0.6813087\n",
      "(cemetery ,woodland) = 0.31181008\n",
      "(chord ,smile) = 0.11594116\n",
      "(coast ,forest) = 0.28967166\n",
      "(coast ,hill) = 0.36985782\n",
      "(coast ,shore) = 0.6282539\n",
      "(crane ,implement) = 0.10043778\n",
      "(food ,fruit) = 0.34786722\n",
      "(food ,rooster) = 0.160572\n",
      "(forest ,graveyard) = 0.27183968\n",
      "(furnace ,stove) = 0.5682367\n",
      "(gem ,jewel) = 0.7255655\n",
      "(glass ,magician) = 0.17804337\n",
      "(journey ,car) = 0.24229912\n",
      "(journey ,voyage) = 0.6488573\n"
     ]
    }
   ],
   "source": [
    "from gensim.models.wrappers import FastText\n",
    "\n",
    "model2 =  KeyedVectors.load_word2vec_format('crawl-300d-2M.vec', binary = False)\n",
    "print(model2)\n",
    "\n",
    "##Similitud para 20 palabras en ingles\n",
    "sim_fast = []\n",
    "for xs in range(20):\n",
    "    sim = model2.similarity(palabras.iloc[xs][0], palabras.iloc[xs][1])\n",
    "    print('(' + palabras.iloc[xs][0] +' ,'+ palabras.iloc[xs][1] + ') = ' + str(sim))\n",
    "    sim_fast.append(sim)"
   ]
  },
  {
   "cell_type": "markdown",
   "metadata": {},
   "source": [
    "### 4. Usando WordNet con palabras en ingles"
   ]
  },
  {
   "cell_type": "code",
   "execution_count": 13,
   "metadata": {},
   "outputs": [
    {
     "name": "stdout",
     "output_type": "stream",
     "text": [
      "(asylum ,madhouse) = 0.5\n",
      "(bird ,cock) = 0.5\n",
      "(bird ,crane) = 0.25\n",
      "(boy ,lad) = 0.5\n",
      "(brother ,monk) = 0.5\n",
      "(car ,automobile) = 1.0\n",
      "(cemetery ,woodland) = 0.1111111111111111\n",
      "(chord ,smile) = 0.125\n",
      "(coast ,forest) = 0.16666666666666666\n",
      "(coast ,hill) = 0.2\n",
      "(coast ,shore) = 0.5\n",
      "(crane ,implement) = 0.2\n",
      "(food ,fruit) = 0.1\n",
      "(food ,rooster) = 0.0625\n",
      "(forest ,graveyard) = 0.1111111111111111\n",
      "(furnace ,stove) = 0.1\n",
      "(gem ,jewel) = 1.0\n",
      "(glass ,magician) = 0.125\n",
      "(journey ,car) = 0.08333333333333333\n",
      "(journey ,voyage) = 0.5\n"
     ]
    }
   ],
   "source": [
    "from nltk.corpus import wordnet as wn\n",
    "\n",
    "\n",
    "##Similitud para 20 palabras en ingles\n",
    "sim_wordN = []\n",
    "for ts in range(20):\n",
    "    pa = palabras.iloc[ts][0] \n",
    "    pb = palabras.iloc[ts][1]\n",
    "    sim = 0\n",
    "    syna = None\n",
    "    synb = None\n",
    "    for xs in wn.synsets(pa):\n",
    "        for ys in wn.synsets(pb):\n",
    "            s = xs.path_similarity(ys)\n",
    "            if s == None:\n",
    "                s = -1\n",
    "            if s > sim:\n",
    "                sim = s\n",
    "                syna = xs\n",
    "                synb = ys\n",
    "    print('(' + pa +' ,'+ pb  + ') = ' + str(sim))\n",
    "    sim_wordN.append(sim)"
   ]
  },
  {
   "cell_type": "markdown",
   "metadata": {},
   "source": [
    "### 4. Usando WordNet con palabras en español"
   ]
  },
  {
   "cell_type": "code",
   "execution_count": 18,
   "metadata": {},
   "outputs": [
    {
     "name": "stdout",
     "output_type": "stream",
     "text": [
      "(asilo ,manicomio) = 0\n",
      "(pajaro ,gallo) = 0\n",
      "(pajaro ,grulla) = 0\n",
      "(chico ,muchacho) = 1.0\n",
      "(hermano ,monje) = 0.16666666666666666\n",
      "(coche ,automovil) = 0\n",
      "(cementerio ,bosque) = 0.1111111111111111\n",
      "(acorde ,sonrisa) = 0\n",
      "(costa ,bosque) = 0.16666666666666666\n",
      "(costa ,colina) = 0.2\n",
      "(costa ,orilla) = 0.5\n",
      "(grua ,implemento) = 0\n",
      "(comida ,fruta) = 0.3333333333333333\n",
      "(comida ,gallo) = 0.0625\n",
      "(forestales ,cementerio) = 0\n",
      "(horno ,estufa) = 0\n",
      "(gema ,joya) = 0\n",
      "(vidrio ,mago) = 0.125\n",
      "(coche ,viaje) = 0.07142857142857142\n",
      "(viaje ,pasaje) = 0.2\n"
     ]
    }
   ],
   "source": [
    "palabras_es = data.iloc[:20,6:8]\n",
    "\n",
    "\n",
    "##Similitud para 20 palabras en español\n",
    "sim_wordNE= []\n",
    "for ts in range(20):\n",
    "    pa = palabras_es.iloc[ts][0] \n",
    "    pb = palabras_es.iloc[ts][1]\n",
    "    sim = 0\n",
    "    syna = None\n",
    "    synb = None\n",
    "    for xs in wn.synsets(pa, lang='spa'):\n",
    "        for ys in wn.synsets(pb, lang='spa'):\n",
    "            s = xs.path_similarity(ys)\n",
    "            if s == None:\n",
    "                s = -1\n",
    "            if s > sim:\n",
    "                sim = s\n",
    "                syna = xs\n",
    "                synb = ys\n",
    "    print('(' + pa +' ,'+ pb  + ') = ' + str(sim))\n",
    "    sim_wordNE.append(sim)"
   ]
  },
  {
   "cell_type": "markdown",
   "metadata": {},
   "source": [
    "### Evaluando los modelos con correlacion de Pearson"
   ]
  },
  {
   "cell_type": "code",
   "execution_count": 38,
   "metadata": {},
   "outputs": [
    {
     "data": {
      "text/plain": [
       "<function matplotlib.pyplot.show(*args, **kw)>"
      ]
     },
     "execution_count": 38,
     "metadata": {},
     "output_type": "execute_result"
    },
    {
     "data": {
      "image/png": "[encoded data removed]",
      "text/plain": [
       "<Figure size 288x288 with 2 Axes>"
      ]
     },
     "metadata": {
      "needs_background": "light"
     },
     "output_type": "display_data"
    }
   ],
   "source": [
    "import numpy as np\n",
    "import matplotlib.pyplot as plt\n",
    "\n",
    "\n",
    "w2 =  pd.DataFrame(sim_word2, columns=['word2vec'])\n",
    "glove =  pd.DataFrame(sim_glove, columns=['GloVe'])\n",
    "fast = pd.DataFrame(sim_fast, columns=['fasText'])\n",
    "word = pd.DataFrame(sim_wordN, columns=['WordNet'])\n",
    "\n",
    "data_sim = pd.concat([w2,glove,fast,word], axis=1)\n",
    "\n",
    "\n",
    "plt.matshow(data_sim.corr())\n",
    "plt.colorbar()\n",
    "plt.suptitle('Matriz de correlacion de Pearson de los diferentes modelos')\n",
    "plt.show\n",
    "\n"
   ]
  },
  {
   "cell_type": "markdown",
   "metadata": {},
   "source": [
    "### Comentarios finales\n",
    " \n",
    "A Pesar de que el índice de correlación de Pearson vemos que WordNet (columna y renglón 3) ese fue el método donde si analizamos los valores dados para cada par de palabras se acercan más a la realidad, por ejemplo :\n",
    " \n",
    "WordNet al par (car ,automobile) = 1.0 mientras que GloVe (car ,automobile) = 0.7535857, aquí podemos ver que WordNet da un valor más alto de similitud entre ambas palabras que cualquiera de los otres tres modelos.\n"
   ]
  },
  {
   "cell_type": "code",
   "execution_count": null,
   "metadata": {},
   "outputs": [],
   "source": []
  }
 ],
 "metadata": {
  "kernelspec": {
   "display_name": "Python 3 (ipykernel)",
   "language": "python",
   "name": "python3"
  },
  "language_info": {
   "codemirror_mode": {
    "name": "ipython",
    "version": 3
   },
   "file_extension": ".py",
   "mimetype": "text/x-python",
   "name": "python",
   "nbconvert_exporter": "python",
   "pygments_lexer": "ipython3",
   "version": "3.9.7"
  }
 },
 "nbformat": 4,
 "nbformat_minor": 4
}
